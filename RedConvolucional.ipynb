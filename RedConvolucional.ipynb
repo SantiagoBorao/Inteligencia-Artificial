{
 "cells": [
  {
   "cell_type": "markdown",
   "metadata": {},
   "source": [
    "Una red no convolucional solo funciona bien si las imágenes que le das son muy parecidas a las que usó en el entrenamiento.\n",
    "Las redes neuronales son muy buenas con las predicciones siempre y cuando definan características.\n",
    "Cuando le damos una imagen, la red trabajará con el valor de cada píxel, por lo que con que lo cambiemos un poco ya se rompe.\n",
    "Una red convolucional trabaja primero con la imagen y luego extrae las características para que no depende solo de la posición o el tamaño de las cosas.\n",
    "Para crear una covolucional, necesitaremos crear dos nuevas capas intermedias, las de convolución y agrupación. Dichas capas extraerán las características relevantes de la imagen para luego trabajar con el resto de capas normales."
   ]
  }
 ],
 "metadata": {
  "language_info": {
   "name": "python"
  },
  "orig_nbformat": 4
 },
 "nbformat": 4,
 "nbformat_minor": 2
}
