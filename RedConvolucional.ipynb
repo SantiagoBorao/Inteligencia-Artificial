{
 "cells": [
  {
   "cell_type": "markdown",
   "metadata": {},
   "source": [
    "Una red no convolucional solo funciona bien si las imágenes que le das son muy parecidas a las que usó en el entrenamiento.\n",
    "Las redes neuronales son muy buenas con las predicciones siempre y cuando definan características.\n",
    "Cuando le damos una imagen, la red trabajará con el valor de cada píxel, por lo que con que lo cambiemos un poco ya se rompe.\n",
    "Una red convolucional trabaja primero con la imagen y luego extrae las características para que no depende solo de la posición o el tamaño de las cosas.\n",
    "Para crear una covolucional, necesitaremos crear dos nuevas capas intermedias, las de convolución y agrupación. Dichas capas extraerán las características relevantes de la imagen para luego trabajar con el resto de capas normales."
   ]
  },
  {
   "cell_type": "markdown",
   "metadata": {},
   "source": [
    "Para crear una capa de convolución, no indicamos el número de neuronas, como en una capa de neuronas, sino el número de núcleos que se van a usar. (Las matrices esas raras para aplicar filtros)\n",
    "tf.keras.layers.Conv2D(32,(3,3), input_shape=(28, 28, 1))\n",
    "tf.keras.layers.Conv2D(Número de núcleos para procesar la imagen, tamaño de los núcleos (3x3 casillas), tamaño de imagen de entrada(28x28) y el número de canales (no lo tengo claro porqué 1))"
   ]
  },
  {
   "cell_type": "markdown",
   "metadata": {},
   "source": [
    "Obtendremos entonces 32 imágenes nuevas con diferentes filtrados. La gracia de todo es que el contenido de los núcleos no se especifican porqué los irá creando la red."
   ]
  },
  {
   "cell_type": "markdown",
   "metadata": {},
   "source": [
    "Si usamos fotos a color, dado que están hechas a partir de 3 colores RGB. Se hacen 3 convoluciones por núcleo en vez de 1, por lo que se hacen en este ejemplo 96 convoluciones pero solo 32 resultados."
   ]
  },
  {
   "cell_type": "markdown",
   "metadata": {},
   "source": [
    "Todo esto es para neuronas simples, que solo miran pixel por pixel. Toca pasar a las complejas, que miran un poco más grande. Para ello usamos la capa de agrupación. Esta capa reducirá el tamaño de la imagen y resaltar las características más importantes.\n",
    "Esta vez lo que hará será crear una matriz con los números mayores de los núcleos. Con esto el tamaño se reduce y solo usamos los píxeles más significativos."
   ]
  }
 ],
 "metadata": {
  "language_info": {
   "name": "python"
  },
  "orig_nbformat": 4
 },
 "nbformat": 4,
 "nbformat_minor": 2
}
